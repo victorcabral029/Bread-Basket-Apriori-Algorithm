{
 "cells": [
  {
   "cell_type": "markdown",
   "metadata": {},
   "source": [
    "### Bread Basket Association Rules with Apriori Algortithm\n",
    "\n",
    "Using the Apriori Algorithm, I will try to find some associations between products in orders of a bakery in Edinburgh, Scotland. The dataset has 20507 entries, over 9000 transactions, and 5 columns.\n",
    "\n",
    "* Transaction - Id of the transaction\n",
    "* Item - Product of that transaction\n",
    "* date_time - Day and hour\n",
    "* period_day - Period of the Day (morning, afteernoon, evening, night) \n",
    "* weekday_weekend - whether it was weekday or weekend"
   ]
  },
  {
   "cell_type": "markdown",
   "metadata": {},
   "source": [
    "### Importing The Libraries"
   ]
  },
  {
   "cell_type": "code",
   "execution_count": 55,
   "metadata": {},
   "outputs": [],
   "source": [
    "import pandas as pd\n",
    "import numpy as np\n",
    "import matplotlib.pyplot as plt\n",
    "import seaborn as sns"
   ]
  },
  {
   "cell_type": "markdown",
   "metadata": {},
   "source": [
    "### Importing The Dataset"
   ]
  },
  {
   "cell_type": "code",
   "execution_count": 56,
   "metadata": {},
   "outputs": [],
   "source": [
    "basket = pd.read_csv('bread basket.csv')"
   ]
  },
  {
   "cell_type": "markdown",
   "metadata": {},
   "source": [
    "### Dataset Description"
   ]
  },
  {
   "cell_type": "code",
   "execution_count": 57,
   "metadata": {},
   "outputs": [
    {
     "data": {
      "text/html": [
       "<div>\n",
       "<style scoped>\n",
       "    .dataframe tbody tr th:only-of-type {\n",
       "        vertical-align: middle;\n",
       "    }\n",
       "\n",
       "    .dataframe tbody tr th {\n",
       "        vertical-align: top;\n",
       "    }\n",
       "\n",
       "    .dataframe thead th {\n",
       "        text-align: right;\n",
       "    }\n",
       "</style>\n",
       "<table border=\"1\" class=\"dataframe\">\n",
       "  <thead>\n",
       "    <tr style=\"text-align: right;\">\n",
       "      <th></th>\n",
       "      <th>Transaction</th>\n",
       "      <th>Item</th>\n",
       "      <th>date_time</th>\n",
       "      <th>period_day</th>\n",
       "      <th>weekday_weekend</th>\n",
       "    </tr>\n",
       "  </thead>\n",
       "  <tbody>\n",
       "    <tr>\n",
       "      <th>0</th>\n",
       "      <td>1</td>\n",
       "      <td>Bread</td>\n",
       "      <td>30-10-2016 09:58</td>\n",
       "      <td>morning</td>\n",
       "      <td>weekend</td>\n",
       "    </tr>\n",
       "    <tr>\n",
       "      <th>1</th>\n",
       "      <td>2</td>\n",
       "      <td>Scandinavian</td>\n",
       "      <td>30-10-2016 10:05</td>\n",
       "      <td>morning</td>\n",
       "      <td>weekend</td>\n",
       "    </tr>\n",
       "    <tr>\n",
       "      <th>2</th>\n",
       "      <td>2</td>\n",
       "      <td>Scandinavian</td>\n",
       "      <td>30-10-2016 10:05</td>\n",
       "      <td>morning</td>\n",
       "      <td>weekend</td>\n",
       "    </tr>\n",
       "    <tr>\n",
       "      <th>3</th>\n",
       "      <td>3</td>\n",
       "      <td>Hot chocolate</td>\n",
       "      <td>30-10-2016 10:07</td>\n",
       "      <td>morning</td>\n",
       "      <td>weekend</td>\n",
       "    </tr>\n",
       "    <tr>\n",
       "      <th>4</th>\n",
       "      <td>3</td>\n",
       "      <td>Jam</td>\n",
       "      <td>30-10-2016 10:07</td>\n",
       "      <td>morning</td>\n",
       "      <td>weekend</td>\n",
       "    </tr>\n",
       "  </tbody>\n",
       "</table>\n",
       "</div>"
      ],
      "text/plain": [
       "   Transaction           Item         date_time period_day weekday_weekend\n",
       "0            1          Bread  30-10-2016 09:58    morning         weekend\n",
       "1            2   Scandinavian  30-10-2016 10:05    morning         weekend\n",
       "2            2   Scandinavian  30-10-2016 10:05    morning         weekend\n",
       "3            3  Hot chocolate  30-10-2016 10:07    morning         weekend\n",
       "4            3            Jam  30-10-2016 10:07    morning         weekend"
      ]
     },
     "execution_count": 57,
     "metadata": {},
     "output_type": "execute_result"
    }
   ],
   "source": [
    "basket.head()"
   ]
  },
  {
   "cell_type": "code",
   "execution_count": 58,
   "metadata": {},
   "outputs": [
    {
     "name": "stdout",
     "output_type": "stream",
     "text": [
      "<class 'pandas.core.frame.DataFrame'>\n",
      "RangeIndex: 20507 entries, 0 to 20506\n",
      "Data columns (total 5 columns):\n",
      " #   Column           Non-Null Count  Dtype \n",
      "---  ------           --------------  ----- \n",
      " 0   Transaction      20507 non-null  int64 \n",
      " 1   Item             20507 non-null  object\n",
      " 2   date_time        20507 non-null  object\n",
      " 3   period_day       20507 non-null  object\n",
      " 4   weekday_weekend  20507 non-null  object\n",
      "dtypes: int64(1), object(4)\n",
      "memory usage: 801.2+ KB\n"
     ]
    }
   ],
   "source": [
    "basket.info()"
   ]
  },
  {
   "cell_type": "markdown",
   "metadata": {},
   "source": [
    "### Visualizing Null Values"
   ]
  },
  {
   "cell_type": "code",
   "execution_count": 59,
   "metadata": {},
   "outputs": [
    {
     "data": {
      "text/plain": [
       "<matplotlib.axes._subplots.AxesSubplot at 0x7fbc5d5c9780>"
      ]
     },
     "execution_count": 59,
     "metadata": {},
     "output_type": "execute_result"
    },
    {
     "data": {
      "image/png": "[encoded data removed]",
      "text/plain": [
       "<Figure size 720x432 with 2 Axes>"
      ]
     },
     "metadata": {
      "needs_background": "light"
     },
     "output_type": "display_data"
    }
   ],
   "source": [
    "plt.subplots(figsize=(10,6))\n",
    "sns.heatmap(basket.isnull())"
   ]
  },
  {
   "cell_type": "markdown",
   "metadata": {},
   "source": [
    "Non null values in this dataset"
   ]
  },
  {
   "cell_type": "markdown",
   "metadata": {},
   "source": [
    "## Data Cleaning"
   ]
  },
  {
   "cell_type": "markdown",
   "metadata": {},
   "source": [
    "### Cleaning item column"
   ]
  },
  {
   "cell_type": "code",
   "execution_count": 60,
   "metadata": {},
   "outputs": [],
   "source": [
    "basket['Item'] = basket['Item'].str.lower()\n",
    "basket['Item'] = basket['Item'].str.strip()"
   ]
  },
  {
   "cell_type": "markdown",
   "metadata": {},
   "source": [
    "### Spliting date time column"
   ]
  },
  {
   "cell_type": "code",
   "execution_count": 61,
   "metadata": {},
   "outputs": [],
   "source": [
    "basket['Datetime'] = pd.to_datetime(basket['date_time'])"
   ]
  },
  {
   "cell_type": "code",
   "execution_count": 62,
   "metadata": {},
   "outputs": [],
   "source": [
    "basket['date'] = basket['Datetime'].dt.date\n",
    "basket['month'] = basket['Datetime'].dt.month\n",
    "basket['day'] = basket['Datetime'].dt.weekday\n",
    "basket['hour'] = basket['Datetime'].dt.hour\n",
    "\n",
    "basket['day'] = basket['day'].replace((0,1,2,3,4,5,6), \n",
    "('Monday','Tuesday','Wednesday','Thursday','Friday','Saturday','Sunday'))"
   ]
  },
  {
   "cell_type": "code",
   "execution_count": 63,
   "metadata": {},
   "outputs": [],
   "source": [
    "basket.drop(columns='date_time',inplace=True)"
   ]
  },
  {
   "cell_type": "code",
   "execution_count": 64,
   "metadata": {},
   "outputs": [
    {
     "data": {
      "text/html": [
       "<div>\n",
       "<style scoped>\n",
       "    .dataframe tbody tr th:only-of-type {\n",
       "        vertical-align: middle;\n",
       "    }\n",
       "\n",
       "    .dataframe tbody tr th {\n",
       "        vertical-align: top;\n",
       "    }\n",
       "\n",
       "    .dataframe thead th {\n",
       "        text-align: right;\n",
       "    }\n",
       "</style>\n",
       "<table border=\"1\" class=\"dataframe\">\n",
       "  <thead>\n",
       "    <tr style=\"text-align: right;\">\n",
       "      <th></th>\n",
       "      <th>Transaction</th>\n",
       "      <th>Item</th>\n",
       "      <th>period_day</th>\n",
       "      <th>weekday_weekend</th>\n",
       "      <th>Datetime</th>\n",
       "      <th>date</th>\n",
       "      <th>month</th>\n",
       "      <th>day</th>\n",
       "      <th>hour</th>\n",
       "    </tr>\n",
       "  </thead>\n",
       "  <tbody>\n",
       "    <tr>\n",
       "      <th>0</th>\n",
       "      <td>1</td>\n",
       "      <td>bread</td>\n",
       "      <td>morning</td>\n",
       "      <td>weekend</td>\n",
       "      <td>2016-10-30 09:58:00</td>\n",
       "      <td>2016-10-30</td>\n",
       "      <td>10</td>\n",
       "      <td>Sunday</td>\n",
       "      <td>9</td>\n",
       "    </tr>\n",
       "    <tr>\n",
       "      <th>1</th>\n",
       "      <td>2</td>\n",
       "      <td>scandinavian</td>\n",
       "      <td>morning</td>\n",
       "      <td>weekend</td>\n",
       "      <td>2016-10-30 10:05:00</td>\n",
       "      <td>2016-10-30</td>\n",
       "      <td>10</td>\n",
       "      <td>Sunday</td>\n",
       "      <td>10</td>\n",
       "    </tr>\n",
       "    <tr>\n",
       "      <th>2</th>\n",
       "      <td>2</td>\n",
       "      <td>scandinavian</td>\n",
       "      <td>morning</td>\n",
       "      <td>weekend</td>\n",
       "      <td>2016-10-30 10:05:00</td>\n",
       "      <td>2016-10-30</td>\n",
       "      <td>10</td>\n",
       "      <td>Sunday</td>\n",
       "      <td>10</td>\n",
       "    </tr>\n",
       "  </tbody>\n",
       "</table>\n",
       "</div>"
      ],
      "text/plain": [
       "   Transaction          Item period_day weekday_weekend            Datetime  \\\n",
       "0            1         bread    morning         weekend 2016-10-30 09:58:00   \n",
       "1            2  scandinavian    morning         weekend 2016-10-30 10:05:00   \n",
       "2            2  scandinavian    morning         weekend 2016-10-30 10:05:00   \n",
       "\n",
       "         date  month     day  hour  \n",
       "0  2016-10-30     10  Sunday     9  \n",
       "1  2016-10-30     10  Sunday    10  \n",
       "2  2016-10-30     10  Sunday    10  "
      ]
     },
     "execution_count": 64,
     "metadata": {},
     "output_type": "execute_result"
    }
   ],
   "source": [
    "basket.head(3)"
   ]
  },
  {
   "cell_type": "markdown",
   "metadata": {},
   "source": [
    "## Data Visualization"
   ]
  },
  {
   "cell_type": "markdown",
   "metadata": {},
   "source": [
    "### Transactions per hour of the day"
   ]
  },
  {
   "cell_type": "code",
   "execution_count": 65,
   "metadata": {},
   "outputs": [],
   "source": [
    "countByHour = basket.groupby('hour')['Transaction'].count().reset_index()\n",
    "countByHour.sort_values('hour',inplace=True)"
   ]
  },
  {
   "cell_type": "code",
   "execution_count": 66,
   "metadata": {},
   "outputs": [
    {
     "data": {
      "text/plain": [
       "<matplotlib.axes._subplots.AxesSubplot at 0x7fbc312e4e48>"
      ]
     },
     "execution_count": 66,
     "metadata": {},
     "output_type": "execute_result"
    },
    {
     "data": {
      "image/png": "[encoded data removed]",
      "text/plain": [
       "<Figure size 864x360 with 1 Axes>"
      ]
     },
     "metadata": {
      "needs_background": "light"
     },
     "output_type": "display_data"
    }
   ],
   "source": [
    "colors = sns.color_palette(\"YlOrRd\", 18)\n",
    "fig = plt.figure(figsize=(12,5))\n",
    "sns.barplot(x=countByHour['hour'], y=countByHour['Transaction'], palette = colors)"
   ]
  },
  {
   "cell_type": "markdown",
   "metadata": {},
   "source": [
    "### Transactions by Day Period"
   ]
  },
  {
   "cell_type": "code",
   "execution_count": 13,
   "metadata": {},
   "outputs": [],
   "source": [
    "countByDayPeriod = basket.groupby('period_day')['Transaction'].count().reset_index()\n",
    "countByDayPeriod.loc[:,\"orderOfDayPeriod\"] = [1,2,0,3]\n",
    "countByDayPeriod.sort_values('orderOfDayPeriod',inplace=True)"
   ]
  },
  {
   "cell_type": "code",
   "execution_count": 14,
   "metadata": {},
   "outputs": [
    {
     "data": {
      "text/plain": [
       "<matplotlib.axes._subplots.AxesSubplot at 0x7fbcf933a2e8>"
      ]
     },
     "execution_count": 14,
     "metadata": {},
     "output_type": "execute_result"
    },
    {
     "data": {
      "image/png": "[encoded data removed]",
      "text/plain": [
       "<Figure size 864x360 with 1 Axes>"
      ]
     },
     "metadata": {
      "needs_background": "light"
     },
     "output_type": "display_data"
    }
   ],
   "source": [
    "colors = sns.color_palette(\"YlOrRd\", 4)\n",
    "fig = plt.figure(figsize=(12,5))\n",
    "sns.barplot(x=countByDayPeriod['period_day'], y=countByDayPeriod['Transaction'], palette = colors)"
   ]
  },
  {
   "cell_type": "markdown",
   "metadata": {},
   "source": [
    "Most transactions in the morning and afternoon period"
   ]
  },
  {
   "cell_type": "markdown",
   "metadata": {},
   "source": [
    "### Transactions per day of the week"
   ]
  },
  {
   "cell_type": "code",
   "execution_count": 67,
   "metadata": {},
   "outputs": [],
   "source": [
    "countByDay = basket.groupby('day')['Transaction'].count().reset_index()\n",
    "countByDay.loc[:,\"orderOfDays\"] = [4,0,5,6,3,1,2]\n",
    "countByDay.sort_values(\"orderOfDays\",inplace=True)"
   ]
  },
  {
   "cell_type": "code",
   "execution_count": 68,
   "metadata": {},
   "outputs": [
    {
     "data": {
      "text/plain": [
       "<matplotlib.axes._subplots.AxesSubplot at 0x7fbcf8ad94a8>"
      ]
     },
     "execution_count": 68,
     "metadata": {},
     "output_type": "execute_result"
    },
    {
     "data": {
      "image/png": "[encoded data removed]",
      "text/plain": [
       "<Figure size 864x360 with 1 Axes>"
      ]
     },
     "metadata": {
      "needs_background": "light"
     },
     "output_type": "display_data"
    }
   ],
   "source": [
    "colors = sns.color_palette(\"YlOrRd\", 7)\n",
    "fig = plt.figure(figsize=(12,5))\n",
    "sns.barplot(x=countByDay['day'], y=countByDay['Transaction'], palette = colors)"
   ]
  },
  {
   "cell_type": "markdown",
   "metadata": {},
   "source": [
    "### Transactions by Week Period"
   ]
  },
  {
   "cell_type": "code",
   "execution_count": 69,
   "metadata": {},
   "outputs": [],
   "source": [
    "countByWeekPeriod = basket.groupby('weekday_weekend')['Transaction'].count().reset_index()\n",
    "countByWeekPeriod.sort_values('weekday_weekend',inplace=True)"
   ]
  },
  {
   "cell_type": "code",
   "execution_count": 70,
   "metadata": {},
   "outputs": [
    {
     "data": {
      "text/plain": [
       "<matplotlib.axes._subplots.AxesSubplot at 0x7fbcf8797fd0>"
      ]
     },
     "execution_count": 70,
     "metadata": {},
     "output_type": "execute_result"
    },
    {
     "data": {
      "image/png": "[encoded data removed]",
      "text/plain": [
       "<Figure size 864x360 with 1 Axes>"
      ]
     },
     "metadata": {
      "needs_background": "light"
     },
     "output_type": "display_data"
    }
   ],
   "source": [
    "colors = sns.color_palette(\"YlOrRd\", 2)\n",
    "fig = plt.figure(figsize=(12,5))\n",
    "sns.barplot(x=countByWeekPeriod['weekday_weekend'], y=countByWeekPeriod['Transaction'], palette = colors)"
   ]
  },
  {
   "cell_type": "markdown",
   "metadata": {},
   "source": [
    "### Transactions By Month"
   ]
  },
  {
   "cell_type": "code",
   "execution_count": 19,
   "metadata": {},
   "outputs": [],
   "source": [
    "countByMonth = basket.groupby('month')['Transaction'].count().reset_index()\n",
    "countByMonth.sort_values('month',inplace=True)"
   ]
  },
  {
   "cell_type": "code",
   "execution_count": 20,
   "metadata": {},
   "outputs": [
    {
     "data": {
      "text/plain": [
       "<matplotlib.axes._subplots.AxesSubplot at 0x7fbcf9334470>"
      ]
     },
     "execution_count": 20,
     "metadata": {},
     "output_type": "execute_result"
    },
    {
     "data": {
      "image/png": "[encoded data removed]",
      "text/plain": [
       "<Figure size 864x360 with 1 Axes>"
      ]
     },
     "metadata": {
      "needs_background": "light"
     },
     "output_type": "display_data"
    }
   ],
   "source": [
    "colors = sns.color_palette(\"YlOrRd\", 12)\n",
    "fig = plt.figure(figsize=(12,5))\n",
    "sns.barplot(x=countByMonth['month'], y=countByMonth['Transaction'], palette = colors)"
   ]
  },
  {
   "cell_type": "markdown",
   "metadata": {},
   "source": [
    "Most transactions in fall and winter"
   ]
  },
  {
   "cell_type": "markdown",
   "metadata": {},
   "source": [
    "### Top 25 sold items"
   ]
  },
  {
   "cell_type": "code",
   "execution_count": 21,
   "metadata": {},
   "outputs": [
    {
     "data": {
      "text/plain": [
       "(array([ 0,  1,  2,  3,  4,  5,  6,  7,  8,  9, 10, 11, 12, 13, 14, 15, 16,\n",
       "        17, 18, 19, 20, 21, 22, 23, 24]),\n",
       " <a list of 25 Text major ticklabel objects>)"
      ]
     },
     "execution_count": 21,
     "metadata": {},
     "output_type": "execute_result"
    },
    {
     "data": {
      "image/png": "[encoded data removed]",
      "text/plain": [
       "<Figure size 1080x360 with 1 Axes>"
      ]
     },
     "metadata": {
      "needs_background": "light"
     },
     "output_type": "display_data"
    }
   ],
   "source": [
    "fig = plt.figure(figsize=(15,5))\n",
    "colors = sns.color_palette(\"YlOrRd\", 25)\n",
    "names = basket.Item.value_counts().head(25).index\n",
    "values = basket.Item.value_counts().head(25)\n",
    "sns.barplot(x = names, y = values, palette = colors)\n",
    "plt.xticks(rotation=45)"
   ]
  },
  {
   "cell_type": "markdown",
   "metadata": {},
   "source": [
    "Coffee and bread are clearly the best selling products"
   ]
  },
  {
   "cell_type": "markdown",
   "metadata": {},
   "source": [
    "### Top items sold by day period"
   ]
  },
  {
   "cell_type": "code",
   "execution_count": 71,
   "metadata": {},
   "outputs": [],
   "source": [
    "items = basket.groupby(['Item','period_day'])['Transaction'].count().reset_index().sort_values(['period_day','Transaction'],ascending=False)"
   ]
  },
  {
   "cell_type": "code",
   "execution_count": 72,
   "metadata": {},
   "outputs": [
    {
     "data": {
      "text/plain": [
       "<matplotlib.axes._subplots.AxesSubplot at 0x7fbcf8ede978>"
      ]
     },
     "execution_count": 72,
     "metadata": {},
     "output_type": "execute_result"
    },
    {
     "data": {
      "image/png": "[encoded data removed]",
      "text/plain": [
       "<Figure size 1224x648 with 4 Axes>"
      ]
     },
     "metadata": {
      "needs_background": "light"
     },
     "output_type": "display_data"
    }
   ],
   "source": [
    "colors = sns.color_palette(\"YlOrRd\", 10)\n",
    "fig = plt.subplots(figsize=(17,9))\n",
    "plt.subplots_adjust(hspace = 0.6)\n",
    "\n",
    "plt.subplot(2,2,1)\n",
    "plt.xticks(rotation=45)\n",
    "plt.title('Top 10 orders in the morning')\n",
    "dfMorning = items[items['period_day']=='morning'].head(10) \n",
    "sns.barplot(x = dfMorning.Item, y = dfMorning.Transaction, palette = colors)\n",
    "\n",
    "plt.subplot(2,2,2)\n",
    "plt.xticks(rotation=45)\n",
    "plt.title('Top 10 orders in the afternoon')\n",
    "dfAfternoon = items[items['period_day']=='afternoon'].head(10) \n",
    "sns.barplot(x = dfAfternoon.Item, y = dfAfternoon.Transaction, palette = colors)\n",
    "\n",
    "plt.subplot(2,2,3)\n",
    "plt.xticks(rotation=45)\n",
    "plt.title('Top 10 orders in the evening')\n",
    "dfEvening = items[items['period_day']=='evening'].head(10) \n",
    "sns.barplot(x = dfEvening.Item, y = dfEvening.Transaction, palette = colors)\n",
    "\n",
    "plt.subplot(2,2,4)\n",
    "plt.xticks(rotation=45)\n",
    "plt.title('Top 10 orders in the night')\n",
    "dfNight = items[items['period_day']=='night'].head(10) \n",
    "sns.barplot(x = dfNight.Item, y = dfNight.Transaction, palette = colors)"
   ]
  },
  {
   "cell_type": "markdown",
   "metadata": {},
   "source": [
    "### Top items sold by Weekend or WeekDay"
   ]
  },
  {
   "cell_type": "code",
   "execution_count": 73,
   "metadata": {},
   "outputs": [],
   "source": [
    "items2 = basket.groupby(['Item','weekday_weekend'])['Transaction'].count().reset_index().sort_values(['weekday_weekend','Transaction'],ascending=False)"
   ]
  },
  {
   "cell_type": "code",
   "execution_count": 74,
   "metadata": {},
   "outputs": [
    {
     "data": {
      "text/plain": [
       "<matplotlib.axes._subplots.AxesSubplot at 0x7fbcf8da29b0>"
      ]
     },
     "execution_count": 74,
     "metadata": {},
     "output_type": "execute_result"
    },
    {
     "data": {
      "image/png": "[encoded data removed]",
      "text/plain": [
       "<Figure size 1080x360 with 2 Axes>"
      ]
     },
     "metadata": {
      "needs_background": "light"
     },
     "output_type": "display_data"
    }
   ],
   "source": [
    "colors = sns.color_palette(\"YlOrRd\", 10)\n",
    "fig = plt.subplots(figsize=(15,5))\n",
    "\n",
    "plt.subplot(1,2,1)\n",
    "plt.xticks(rotation=45)\n",
    "plt.title('Top 10 orders in weekdays')\n",
    "dfWeekday = items2[items2['weekday_weekend']=='weekday'].head(10) \n",
    "sns.barplot(x = dfWeekday.Item, y = dfWeekday.Transaction, palette = colors)\n",
    "\n",
    "plt.subplot(1,2,2)\n",
    "plt.xticks(rotation=45)\n",
    "plt.title('Top 10 orders in weekends')\n",
    "dfWeekend = items2[items2['weekday_weekend']=='weekend'].head(10) \n",
    "sns.barplot(x = dfWeekend.Item, y = dfWeekend.Transaction, palette = colors)"
   ]
  },
  {
   "cell_type": "markdown",
   "metadata": {},
   "source": [
    "## Apriori Algorithm"
   ]
  },
  {
   "cell_type": "code",
   "execution_count": 75,
   "metadata": {},
   "outputs": [],
   "source": [
    "transactions = basket.groupby(['Transaction', 'Item'])['Item'].count().reset_index(name='Number of Items')\n",
    "table = transactions.pivot_table(index='Transaction', columns='Item', values='Number of Items', aggfunc='sum').fillna(0)"
   ]
  },
  {
   "cell_type": "code",
   "execution_count": 76,
   "metadata": {},
   "outputs": [
    {
     "data": {
      "text/html": [
       "<div>\n",
       "<style scoped>\n",
       "    .dataframe tbody tr th:only-of-type {\n",
       "        vertical-align: middle;\n",
       "    }\n",
       "\n",
       "    .dataframe tbody tr th {\n",
       "        vertical-align: top;\n",
       "    }\n",
       "\n",
       "    .dataframe thead th {\n",
       "        text-align: right;\n",
       "    }\n",
       "</style>\n",
       "<table border=\"1\" class=\"dataframe\">\n",
       "  <thead>\n",
       "    <tr style=\"text-align: right;\">\n",
       "      <th>Item</th>\n",
       "      <th>adjustment</th>\n",
       "      <th>afternoon with the baker</th>\n",
       "      <th>alfajores</th>\n",
       "      <th>argentina night</th>\n",
       "      <th>art tray</th>\n",
       "      <th>bacon</th>\n",
       "      <th>baguette</th>\n",
       "      <th>bakewell</th>\n",
       "      <th>bare popcorn</th>\n",
       "      <th>basket</th>\n",
       "      <th>...</th>\n",
       "      <th>the bart</th>\n",
       "      <th>the nomad</th>\n",
       "      <th>tiffin</th>\n",
       "      <th>toast</th>\n",
       "      <th>truffles</th>\n",
       "      <th>tshirt</th>\n",
       "      <th>valentine's card</th>\n",
       "      <th>vegan feast</th>\n",
       "      <th>vegan mincepie</th>\n",
       "      <th>victorian sponge</th>\n",
       "    </tr>\n",
       "    <tr>\n",
       "      <th>Transaction</th>\n",
       "      <th></th>\n",
       "      <th></th>\n",
       "      <th></th>\n",
       "      <th></th>\n",
       "      <th></th>\n",
       "      <th></th>\n",
       "      <th></th>\n",
       "      <th></th>\n",
       "      <th></th>\n",
       "      <th></th>\n",
       "      <th></th>\n",
       "      <th></th>\n",
       "      <th></th>\n",
       "      <th></th>\n",
       "      <th></th>\n",
       "      <th></th>\n",
       "      <th></th>\n",
       "      <th></th>\n",
       "      <th></th>\n",
       "      <th></th>\n",
       "      <th></th>\n",
       "    </tr>\n",
       "  </thead>\n",
       "  <tbody>\n",
       "    <tr>\n",
       "      <th>1</th>\n",
       "      <td>0.0</td>\n",
       "      <td>0.0</td>\n",
       "      <td>0.0</td>\n",
       "      <td>0.0</td>\n",
       "      <td>0.0</td>\n",
       "      <td>0.0</td>\n",
       "      <td>0.0</td>\n",
       "      <td>0.0</td>\n",
       "      <td>0.0</td>\n",
       "      <td>0.0</td>\n",
       "      <td>...</td>\n",
       "      <td>0.0</td>\n",
       "      <td>0.0</td>\n",
       "      <td>0.0</td>\n",
       "      <td>0.0</td>\n",
       "      <td>0.0</td>\n",
       "      <td>0.0</td>\n",
       "      <td>0.0</td>\n",
       "      <td>0.0</td>\n",
       "      <td>0.0</td>\n",
       "      <td>0.0</td>\n",
       "    </tr>\n",
       "    <tr>\n",
       "      <th>2</th>\n",
       "      <td>0.0</td>\n",
       "      <td>0.0</td>\n",
       "      <td>0.0</td>\n",
       "      <td>0.0</td>\n",
       "      <td>0.0</td>\n",
       "      <td>0.0</td>\n",
       "      <td>0.0</td>\n",
       "      <td>0.0</td>\n",
       "      <td>0.0</td>\n",
       "      <td>0.0</td>\n",
       "      <td>...</td>\n",
       "      <td>0.0</td>\n",
       "      <td>0.0</td>\n",
       "      <td>0.0</td>\n",
       "      <td>0.0</td>\n",
       "      <td>0.0</td>\n",
       "      <td>0.0</td>\n",
       "      <td>0.0</td>\n",
       "      <td>0.0</td>\n",
       "      <td>0.0</td>\n",
       "      <td>0.0</td>\n",
       "    </tr>\n",
       "    <tr>\n",
       "      <th>3</th>\n",
       "      <td>0.0</td>\n",
       "      <td>0.0</td>\n",
       "      <td>0.0</td>\n",
       "      <td>0.0</td>\n",
       "      <td>0.0</td>\n",
       "      <td>0.0</td>\n",
       "      <td>0.0</td>\n",
       "      <td>0.0</td>\n",
       "      <td>0.0</td>\n",
       "      <td>0.0</td>\n",
       "      <td>...</td>\n",
       "      <td>0.0</td>\n",
       "      <td>0.0</td>\n",
       "      <td>0.0</td>\n",
       "      <td>0.0</td>\n",
       "      <td>0.0</td>\n",
       "      <td>0.0</td>\n",
       "      <td>0.0</td>\n",
       "      <td>0.0</td>\n",
       "      <td>0.0</td>\n",
       "      <td>0.0</td>\n",
       "    </tr>\n",
       "    <tr>\n",
       "      <th>4</th>\n",
       "      <td>0.0</td>\n",
       "      <td>0.0</td>\n",
       "      <td>0.0</td>\n",
       "      <td>0.0</td>\n",
       "      <td>0.0</td>\n",
       "      <td>0.0</td>\n",
       "      <td>0.0</td>\n",
       "      <td>0.0</td>\n",
       "      <td>0.0</td>\n",
       "      <td>0.0</td>\n",
       "      <td>...</td>\n",
       "      <td>0.0</td>\n",
       "      <td>0.0</td>\n",
       "      <td>0.0</td>\n",
       "      <td>0.0</td>\n",
       "      <td>0.0</td>\n",
       "      <td>0.0</td>\n",
       "      <td>0.0</td>\n",
       "      <td>0.0</td>\n",
       "      <td>0.0</td>\n",
       "      <td>0.0</td>\n",
       "    </tr>\n",
       "    <tr>\n",
       "      <th>5</th>\n",
       "      <td>0.0</td>\n",
       "      <td>0.0</td>\n",
       "      <td>0.0</td>\n",
       "      <td>0.0</td>\n",
       "      <td>0.0</td>\n",
       "      <td>0.0</td>\n",
       "      <td>0.0</td>\n",
       "      <td>0.0</td>\n",
       "      <td>0.0</td>\n",
       "      <td>0.0</td>\n",
       "      <td>...</td>\n",
       "      <td>0.0</td>\n",
       "      <td>0.0</td>\n",
       "      <td>0.0</td>\n",
       "      <td>0.0</td>\n",
       "      <td>0.0</td>\n",
       "      <td>0.0</td>\n",
       "      <td>0.0</td>\n",
       "      <td>0.0</td>\n",
       "      <td>0.0</td>\n",
       "      <td>0.0</td>\n",
       "    </tr>\n",
       "  </tbody>\n",
       "</table>\n",
       "<p>5 rows × 94 columns</p>\n",
       "</div>"
      ],
      "text/plain": [
       "Item         adjustment  afternoon with the baker  alfajores  argentina night  \\\n",
       "Transaction                                                                     \n",
       "1                   0.0                       0.0        0.0              0.0   \n",
       "2                   0.0                       0.0        0.0              0.0   \n",
       "3                   0.0                       0.0        0.0              0.0   \n",
       "4                   0.0                       0.0        0.0              0.0   \n",
       "5                   0.0                       0.0        0.0              0.0   \n",
       "\n",
       "Item         art tray  bacon  baguette  bakewell  bare popcorn  basket  ...  \\\n",
       "Transaction                                                             ...   \n",
       "1                 0.0    0.0       0.0       0.0           0.0     0.0  ...   \n",
       "2                 0.0    0.0       0.0       0.0           0.0     0.0  ...   \n",
       "3                 0.0    0.0       0.0       0.0           0.0     0.0  ...   \n",
       "4                 0.0    0.0       0.0       0.0           0.0     0.0  ...   \n",
       "5                 0.0    0.0       0.0       0.0           0.0     0.0  ...   \n",
       "\n",
       "Item         the bart  the nomad  tiffin  toast  truffles  tshirt  \\\n",
       "Transaction                                                         \n",
       "1                 0.0        0.0     0.0    0.0       0.0     0.0   \n",
       "2                 0.0        0.0     0.0    0.0       0.0     0.0   \n",
       "3                 0.0        0.0     0.0    0.0       0.0     0.0   \n",
       "4                 0.0        0.0     0.0    0.0       0.0     0.0   \n",
       "5                 0.0        0.0     0.0    0.0       0.0     0.0   \n",
       "\n",
       "Item         valentine's card  vegan feast  vegan mincepie  victorian sponge  \n",
       "Transaction                                                                   \n",
       "1                         0.0          0.0             0.0               0.0  \n",
       "2                         0.0          0.0             0.0               0.0  \n",
       "3                         0.0          0.0             0.0               0.0  \n",
       "4                         0.0          0.0             0.0               0.0  \n",
       "5                         0.0          0.0             0.0               0.0  \n",
       "\n",
       "[5 rows x 94 columns]"
      ]
     },
     "execution_count": 76,
     "metadata": {},
     "output_type": "execute_result"
    }
   ],
   "source": [
    "table.head()"
   ]
  },
  {
   "cell_type": "code",
   "execution_count": 77,
   "metadata": {},
   "outputs": [],
   "source": [
    "def hot_encode(x): \n",
    "    if(x==0): \n",
    "        return False\n",
    "    if(x>0): \n",
    "        return True"
   ]
  },
  {
   "cell_type": "code",
   "execution_count": 78,
   "metadata": {},
   "outputs": [],
   "source": [
    "final_table = table.applymap(hot_encode) "
   ]
  },
  {
   "cell_type": "code",
   "execution_count": 79,
   "metadata": {},
   "outputs": [
    {
     "data": {
      "text/html": [
       "<div>\n",
       "<style scoped>\n",
       "    .dataframe tbody tr th:only-of-type {\n",
       "        vertical-align: middle;\n",
       "    }\n",
       "\n",
       "    .dataframe tbody tr th {\n",
       "        vertical-align: top;\n",
       "    }\n",
       "\n",
       "    .dataframe thead th {\n",
       "        text-align: right;\n",
       "    }\n",
       "</style>\n",
       "<table border=\"1\" class=\"dataframe\">\n",
       "  <thead>\n",
       "    <tr style=\"text-align: right;\">\n",
       "      <th>Item</th>\n",
       "      <th>adjustment</th>\n",
       "      <th>afternoon with the baker</th>\n",
       "      <th>alfajores</th>\n",
       "      <th>argentina night</th>\n",
       "      <th>art tray</th>\n",
       "      <th>bacon</th>\n",
       "      <th>baguette</th>\n",
       "      <th>bakewell</th>\n",
       "      <th>bare popcorn</th>\n",
       "      <th>basket</th>\n",
       "      <th>...</th>\n",
       "      <th>the bart</th>\n",
       "      <th>the nomad</th>\n",
       "      <th>tiffin</th>\n",
       "      <th>toast</th>\n",
       "      <th>truffles</th>\n",
       "      <th>tshirt</th>\n",
       "      <th>valentine's card</th>\n",
       "      <th>vegan feast</th>\n",
       "      <th>vegan mincepie</th>\n",
       "      <th>victorian sponge</th>\n",
       "    </tr>\n",
       "    <tr>\n",
       "      <th>Transaction</th>\n",
       "      <th></th>\n",
       "      <th></th>\n",
       "      <th></th>\n",
       "      <th></th>\n",
       "      <th></th>\n",
       "      <th></th>\n",
       "      <th></th>\n",
       "      <th></th>\n",
       "      <th></th>\n",
       "      <th></th>\n",
       "      <th></th>\n",
       "      <th></th>\n",
       "      <th></th>\n",
       "      <th></th>\n",
       "      <th></th>\n",
       "      <th></th>\n",
       "      <th></th>\n",
       "      <th></th>\n",
       "      <th></th>\n",
       "      <th></th>\n",
       "      <th></th>\n",
       "    </tr>\n",
       "  </thead>\n",
       "  <tbody>\n",
       "    <tr>\n",
       "      <th>1</th>\n",
       "      <td>False</td>\n",
       "      <td>False</td>\n",
       "      <td>False</td>\n",
       "      <td>False</td>\n",
       "      <td>False</td>\n",
       "      <td>False</td>\n",
       "      <td>False</td>\n",
       "      <td>False</td>\n",
       "      <td>False</td>\n",
       "      <td>False</td>\n",
       "      <td>...</td>\n",
       "      <td>False</td>\n",
       "      <td>False</td>\n",
       "      <td>False</td>\n",
       "      <td>False</td>\n",
       "      <td>False</td>\n",
       "      <td>False</td>\n",
       "      <td>False</td>\n",
       "      <td>False</td>\n",
       "      <td>False</td>\n",
       "      <td>False</td>\n",
       "    </tr>\n",
       "    <tr>\n",
       "      <th>2</th>\n",
       "      <td>False</td>\n",
       "      <td>False</td>\n",
       "      <td>False</td>\n",
       "      <td>False</td>\n",
       "      <td>False</td>\n",
       "      <td>False</td>\n",
       "      <td>False</td>\n",
       "      <td>False</td>\n",
       "      <td>False</td>\n",
       "      <td>False</td>\n",
       "      <td>...</td>\n",
       "      <td>False</td>\n",
       "      <td>False</td>\n",
       "      <td>False</td>\n",
       "      <td>False</td>\n",
       "      <td>False</td>\n",
       "      <td>False</td>\n",
       "      <td>False</td>\n",
       "      <td>False</td>\n",
       "      <td>False</td>\n",
       "      <td>False</td>\n",
       "    </tr>\n",
       "    <tr>\n",
       "      <th>3</th>\n",
       "      <td>False</td>\n",
       "      <td>False</td>\n",
       "      <td>False</td>\n",
       "      <td>False</td>\n",
       "      <td>False</td>\n",
       "      <td>False</td>\n",
       "      <td>False</td>\n",
       "      <td>False</td>\n",
       "      <td>False</td>\n",
       "      <td>False</td>\n",
       "      <td>...</td>\n",
       "      <td>False</td>\n",
       "      <td>False</td>\n",
       "      <td>False</td>\n",
       "      <td>False</td>\n",
       "      <td>False</td>\n",
       "      <td>False</td>\n",
       "      <td>False</td>\n",
       "      <td>False</td>\n",
       "      <td>False</td>\n",
       "      <td>False</td>\n",
       "    </tr>\n",
       "    <tr>\n",
       "      <th>4</th>\n",
       "      <td>False</td>\n",
       "      <td>False</td>\n",
       "      <td>False</td>\n",
       "      <td>False</td>\n",
       "      <td>False</td>\n",
       "      <td>False</td>\n",
       "      <td>False</td>\n",
       "      <td>False</td>\n",
       "      <td>False</td>\n",
       "      <td>False</td>\n",
       "      <td>...</td>\n",
       "      <td>False</td>\n",
       "      <td>False</td>\n",
       "      <td>False</td>\n",
       "      <td>False</td>\n",
       "      <td>False</td>\n",
       "      <td>False</td>\n",
       "      <td>False</td>\n",
       "      <td>False</td>\n",
       "      <td>False</td>\n",
       "      <td>False</td>\n",
       "    </tr>\n",
       "    <tr>\n",
       "      <th>5</th>\n",
       "      <td>False</td>\n",
       "      <td>False</td>\n",
       "      <td>False</td>\n",
       "      <td>False</td>\n",
       "      <td>False</td>\n",
       "      <td>False</td>\n",
       "      <td>False</td>\n",
       "      <td>False</td>\n",
       "      <td>False</td>\n",
       "      <td>False</td>\n",
       "      <td>...</td>\n",
       "      <td>False</td>\n",
       "      <td>False</td>\n",
       "      <td>False</td>\n",
       "      <td>False</td>\n",
       "      <td>False</td>\n",
       "      <td>False</td>\n",
       "      <td>False</td>\n",
       "      <td>False</td>\n",
       "      <td>False</td>\n",
       "      <td>False</td>\n",
       "    </tr>\n",
       "  </tbody>\n",
       "</table>\n",
       "<p>5 rows × 94 columns</p>\n",
       "</div>"
      ],
      "text/plain": [
       "Item         adjustment  afternoon with the baker  alfajores  argentina night  \\\n",
       "Transaction                                                                     \n",
       "1                 False                     False      False            False   \n",
       "2                 False                     False      False            False   \n",
       "3                 False                     False      False            False   \n",
       "4                 False                     False      False            False   \n",
       "5                 False                     False      False            False   \n",
       "\n",
       "Item         art tray  bacon  baguette  bakewell  bare popcorn  basket  ...  \\\n",
       "Transaction                                                             ...   \n",
       "1               False  False     False     False         False   False  ...   \n",
       "2               False  False     False     False         False   False  ...   \n",
       "3               False  False     False     False         False   False  ...   \n",
       "4               False  False     False     False         False   False  ...   \n",
       "5               False  False     False     False         False   False  ...   \n",
       "\n",
       "Item         the bart  the nomad  tiffin  toast  truffles  tshirt  \\\n",
       "Transaction                                                         \n",
       "1               False      False   False  False     False   False   \n",
       "2               False      False   False  False     False   False   \n",
       "3               False      False   False  False     False   False   \n",
       "4               False      False   False  False     False   False   \n",
       "5               False      False   False  False     False   False   \n",
       "\n",
       "Item         valentine's card  vegan feast  vegan mincepie  victorian sponge  \n",
       "Transaction                                                                   \n",
       "1                       False        False           False             False  \n",
       "2                       False        False           False             False  \n",
       "3                       False        False           False             False  \n",
       "4                       False        False           False             False  \n",
       "5                       False        False           False             False  \n",
       "\n",
       "[5 rows x 94 columns]"
      ]
     },
     "execution_count": 79,
     "metadata": {},
     "output_type": "execute_result"
    }
   ],
   "source": [
    "final_table.head()"
   ]
  },
  {
   "cell_type": "code",
   "execution_count": 80,
   "metadata": {},
   "outputs": [],
   "source": [
    "from mlxtend.frequent_patterns import apriori\n",
    "from mlxtend.frequent_patterns import association_rules"
   ]
  },
  {
   "cell_type": "code",
   "execution_count": 81,
   "metadata": {},
   "outputs": [],
   "source": [
    "frequence = apriori(final_table, min_support=0.015, use_colnames=True)\n",
    "rules = association_rules(frequence, metric=\"lift\", min_threshold=1)"
   ]
  },
  {
   "cell_type": "code",
   "execution_count": 82,
   "metadata": {},
   "outputs": [
    {
     "data": {
      "text/html": [
       "<div>\n",
       "<style scoped>\n",
       "    .dataframe tbody tr th:only-of-type {\n",
       "        vertical-align: middle;\n",
       "    }\n",
       "\n",
       "    .dataframe tbody tr th {\n",
       "        vertical-align: top;\n",
       "    }\n",
       "\n",
       "    .dataframe thead th {\n",
       "        text-align: right;\n",
       "    }\n",
       "</style>\n",
       "<table border=\"1\" class=\"dataframe\">\n",
       "  <thead>\n",
       "    <tr style=\"text-align: right;\">\n",
       "      <th></th>\n",
       "      <th>antecedents</th>\n",
       "      <th>consequents</th>\n",
       "      <th>antecedent support</th>\n",
       "      <th>consequent support</th>\n",
       "      <th>support</th>\n",
       "      <th>confidence</th>\n",
       "      <th>lift</th>\n",
       "      <th>leverage</th>\n",
       "      <th>conviction</th>\n",
       "    </tr>\n",
       "  </thead>\n",
       "  <tbody>\n",
       "    <tr>\n",
       "      <th>0</th>\n",
       "      <td>(alfajores)</td>\n",
       "      <td>(coffee)</td>\n",
       "      <td>0.036344</td>\n",
       "      <td>0.478394</td>\n",
       "      <td>0.019651</td>\n",
       "      <td>0.540698</td>\n",
       "      <td>1.130235</td>\n",
       "      <td>0.002264</td>\n",
       "      <td>1.135648</td>\n",
       "    </tr>\n",
       "    <tr>\n",
       "      <th>1</th>\n",
       "      <td>(coffee)</td>\n",
       "      <td>(alfajores)</td>\n",
       "      <td>0.478394</td>\n",
       "      <td>0.036344</td>\n",
       "      <td>0.019651</td>\n",
       "      <td>0.041078</td>\n",
       "      <td>1.130235</td>\n",
       "      <td>0.002264</td>\n",
       "      <td>1.004936</td>\n",
       "    </tr>\n",
       "    <tr>\n",
       "      <th>2</th>\n",
       "      <td>(pastry)</td>\n",
       "      <td>(bread)</td>\n",
       "      <td>0.086107</td>\n",
       "      <td>0.327205</td>\n",
       "      <td>0.029160</td>\n",
       "      <td>0.338650</td>\n",
       "      <td>1.034977</td>\n",
       "      <td>0.000985</td>\n",
       "      <td>1.017305</td>\n",
       "    </tr>\n",
       "    <tr>\n",
       "      <th>3</th>\n",
       "      <td>(bread)</td>\n",
       "      <td>(pastry)</td>\n",
       "      <td>0.327205</td>\n",
       "      <td>0.086107</td>\n",
       "      <td>0.029160</td>\n",
       "      <td>0.089119</td>\n",
       "      <td>1.034977</td>\n",
       "      <td>0.000985</td>\n",
       "      <td>1.003306</td>\n",
       "    </tr>\n",
       "    <tr>\n",
       "      <th>4</th>\n",
       "      <td>(coffee)</td>\n",
       "      <td>(brownie)</td>\n",
       "      <td>0.478394</td>\n",
       "      <td>0.040042</td>\n",
       "      <td>0.019651</td>\n",
       "      <td>0.041078</td>\n",
       "      <td>1.025860</td>\n",
       "      <td>0.000495</td>\n",
       "      <td>1.001080</td>\n",
       "    </tr>\n",
       "  </tbody>\n",
       "</table>\n",
       "</div>"
      ],
      "text/plain": [
       "   antecedents  consequents  antecedent support  consequent support   support  \\\n",
       "0  (alfajores)     (coffee)            0.036344            0.478394  0.019651   \n",
       "1     (coffee)  (alfajores)            0.478394            0.036344  0.019651   \n",
       "2     (pastry)      (bread)            0.086107            0.327205  0.029160   \n",
       "3      (bread)     (pastry)            0.327205            0.086107  0.029160   \n",
       "4     (coffee)    (brownie)            0.478394            0.040042  0.019651   \n",
       "\n",
       "   confidence      lift  leverage  conviction  \n",
       "0    0.540698  1.130235  0.002264    1.135648  \n",
       "1    0.041078  1.130235  0.002264    1.004936  \n",
       "2    0.338650  1.034977  0.000985    1.017305  \n",
       "3    0.089119  1.034977  0.000985    1.003306  \n",
       "4    0.041078  1.025860  0.000495    1.001080  "
      ]
     },
     "execution_count": 82,
     "metadata": {},
     "output_type": "execute_result"
    }
   ],
   "source": [
    "rules.head()"
   ]
  },
  {
   "cell_type": "code",
   "execution_count": 85,
   "metadata": {},
   "outputs": [
    {
     "data": {
      "text/html": [
       "<div>\n",
       "<style scoped>\n",
       "    .dataframe tbody tr th:only-of-type {\n",
       "        vertical-align: middle;\n",
       "    }\n",
       "\n",
       "    .dataframe tbody tr th {\n",
       "        vertical-align: top;\n",
       "    }\n",
       "\n",
       "    .dataframe thead th {\n",
       "        text-align: right;\n",
       "    }\n",
       "</style>\n",
       "<table border=\"1\" class=\"dataframe\">\n",
       "  <thead>\n",
       "    <tr style=\"text-align: right;\">\n",
       "      <th></th>\n",
       "      <th>antecedents</th>\n",
       "      <th>consequents</th>\n",
       "      <th>antecedent support</th>\n",
       "      <th>consequent support</th>\n",
       "      <th>support</th>\n",
       "      <th>confidence</th>\n",
       "      <th>lift</th>\n",
       "      <th>leverage</th>\n",
       "      <th>conviction</th>\n",
       "    </tr>\n",
       "  </thead>\n",
       "  <tbody>\n",
       "    <tr>\n",
       "      <th>26</th>\n",
       "      <td>(toast)</td>\n",
       "      <td>(coffee)</td>\n",
       "      <td>0.033597</td>\n",
       "      <td>0.478394</td>\n",
       "      <td>0.023666</td>\n",
       "      <td>0.704403</td>\n",
       "      <td>1.472431</td>\n",
       "      <td>0.007593</td>\n",
       "      <td>1.764582</td>\n",
       "    </tr>\n",
       "    <tr>\n",
       "      <th>17</th>\n",
       "      <td>(medialuna)</td>\n",
       "      <td>(coffee)</td>\n",
       "      <td>0.061807</td>\n",
       "      <td>0.478394</td>\n",
       "      <td>0.035182</td>\n",
       "      <td>0.569231</td>\n",
       "      <td>1.189878</td>\n",
       "      <td>0.005614</td>\n",
       "      <td>1.210871</td>\n",
       "    </tr>\n",
       "    <tr>\n",
       "      <th>20</th>\n",
       "      <td>(pastry)</td>\n",
       "      <td>(coffee)</td>\n",
       "      <td>0.086107</td>\n",
       "      <td>0.478394</td>\n",
       "      <td>0.047544</td>\n",
       "      <td>0.552147</td>\n",
       "      <td>1.154168</td>\n",
       "      <td>0.006351</td>\n",
       "      <td>1.164682</td>\n",
       "    </tr>\n",
       "    <tr>\n",
       "      <th>0</th>\n",
       "      <td>(alfajores)</td>\n",
       "      <td>(coffee)</td>\n",
       "      <td>0.036344</td>\n",
       "      <td>0.478394</td>\n",
       "      <td>0.019651</td>\n",
       "      <td>0.540698</td>\n",
       "      <td>1.130235</td>\n",
       "      <td>0.002264</td>\n",
       "      <td>1.135648</td>\n",
       "    </tr>\n",
       "    <tr>\n",
       "      <th>14</th>\n",
       "      <td>(juice)</td>\n",
       "      <td>(coffee)</td>\n",
       "      <td>0.038563</td>\n",
       "      <td>0.478394</td>\n",
       "      <td>0.020602</td>\n",
       "      <td>0.534247</td>\n",
       "      <td>1.116750</td>\n",
       "      <td>0.002154</td>\n",
       "      <td>1.119919</td>\n",
       "    </tr>\n",
       "    <tr>\n",
       "      <th>23</th>\n",
       "      <td>(sandwich)</td>\n",
       "      <td>(coffee)</td>\n",
       "      <td>0.071844</td>\n",
       "      <td>0.478394</td>\n",
       "      <td>0.038246</td>\n",
       "      <td>0.532353</td>\n",
       "      <td>1.112792</td>\n",
       "      <td>0.003877</td>\n",
       "      <td>1.115384</td>\n",
       "    </tr>\n",
       "    <tr>\n",
       "      <th>7</th>\n",
       "      <td>(cake)</td>\n",
       "      <td>(coffee)</td>\n",
       "      <td>0.103856</td>\n",
       "      <td>0.478394</td>\n",
       "      <td>0.054728</td>\n",
       "      <td>0.526958</td>\n",
       "      <td>1.101515</td>\n",
       "      <td>0.005044</td>\n",
       "      <td>1.102664</td>\n",
       "    </tr>\n",
       "    <tr>\n",
       "      <th>25</th>\n",
       "      <td>(scone)</td>\n",
       "      <td>(coffee)</td>\n",
       "      <td>0.034548</td>\n",
       "      <td>0.478394</td>\n",
       "      <td>0.018067</td>\n",
       "      <td>0.522936</td>\n",
       "      <td>1.093107</td>\n",
       "      <td>0.001539</td>\n",
       "      <td>1.093366</td>\n",
       "    </tr>\n",
       "    <tr>\n",
       "      <th>10</th>\n",
       "      <td>(cookies)</td>\n",
       "      <td>(coffee)</td>\n",
       "      <td>0.054411</td>\n",
       "      <td>0.478394</td>\n",
       "      <td>0.028209</td>\n",
       "      <td>0.518447</td>\n",
       "      <td>1.083723</td>\n",
       "      <td>0.002179</td>\n",
       "      <td>1.083174</td>\n",
       "    </tr>\n",
       "    <tr>\n",
       "      <th>12</th>\n",
       "      <td>(hot chocolate)</td>\n",
       "      <td>(coffee)</td>\n",
       "      <td>0.058320</td>\n",
       "      <td>0.478394</td>\n",
       "      <td>0.029583</td>\n",
       "      <td>0.507246</td>\n",
       "      <td>1.060311</td>\n",
       "      <td>0.001683</td>\n",
       "      <td>1.058553</td>\n",
       "    </tr>\n",
       "    <tr>\n",
       "      <th>5</th>\n",
       "      <td>(brownie)</td>\n",
       "      <td>(coffee)</td>\n",
       "      <td>0.040042</td>\n",
       "      <td>0.478394</td>\n",
       "      <td>0.019651</td>\n",
       "      <td>0.490765</td>\n",
       "      <td>1.025860</td>\n",
       "      <td>0.000495</td>\n",
       "      <td>1.024293</td>\n",
       "    </tr>\n",
       "    <tr>\n",
       "      <th>19</th>\n",
       "      <td>(muffin)</td>\n",
       "      <td>(coffee)</td>\n",
       "      <td>0.038457</td>\n",
       "      <td>0.478394</td>\n",
       "      <td>0.018806</td>\n",
       "      <td>0.489011</td>\n",
       "      <td>1.022193</td>\n",
       "      <td>0.000408</td>\n",
       "      <td>1.020777</td>\n",
       "    </tr>\n",
       "    <tr>\n",
       "      <th>2</th>\n",
       "      <td>(pastry)</td>\n",
       "      <td>(bread)</td>\n",
       "      <td>0.086107</td>\n",
       "      <td>0.327205</td>\n",
       "      <td>0.029160</td>\n",
       "      <td>0.338650</td>\n",
       "      <td>1.034977</td>\n",
       "      <td>0.000985</td>\n",
       "      <td>1.017305</td>\n",
       "    </tr>\n",
       "    <tr>\n",
       "      <th>9</th>\n",
       "      <td>(cake)</td>\n",
       "      <td>(tea)</td>\n",
       "      <td>0.103856</td>\n",
       "      <td>0.142631</td>\n",
       "      <td>0.023772</td>\n",
       "      <td>0.228891</td>\n",
       "      <td>1.604781</td>\n",
       "      <td>0.008959</td>\n",
       "      <td>1.111865</td>\n",
       "    </tr>\n",
       "    <tr>\n",
       "      <th>8</th>\n",
       "      <td>(tea)</td>\n",
       "      <td>(cake)</td>\n",
       "      <td>0.142631</td>\n",
       "      <td>0.103856</td>\n",
       "      <td>0.023772</td>\n",
       "      <td>0.166667</td>\n",
       "      <td>1.604781</td>\n",
       "      <td>0.008959</td>\n",
       "      <td>1.075372</td>\n",
       "    </tr>\n",
       "    <tr>\n",
       "      <th>6</th>\n",
       "      <td>(coffee)</td>\n",
       "      <td>(cake)</td>\n",
       "      <td>0.478394</td>\n",
       "      <td>0.103856</td>\n",
       "      <td>0.054728</td>\n",
       "      <td>0.114399</td>\n",
       "      <td>1.101515</td>\n",
       "      <td>0.005044</td>\n",
       "      <td>1.011905</td>\n",
       "    </tr>\n",
       "    <tr>\n",
       "      <th>21</th>\n",
       "      <td>(coffee)</td>\n",
       "      <td>(pastry)</td>\n",
       "      <td>0.478394</td>\n",
       "      <td>0.086107</td>\n",
       "      <td>0.047544</td>\n",
       "      <td>0.099382</td>\n",
       "      <td>1.154168</td>\n",
       "      <td>0.006351</td>\n",
       "      <td>1.014740</td>\n",
       "    </tr>\n",
       "    <tr>\n",
       "      <th>3</th>\n",
       "      <td>(bread)</td>\n",
       "      <td>(pastry)</td>\n",
       "      <td>0.327205</td>\n",
       "      <td>0.086107</td>\n",
       "      <td>0.029160</td>\n",
       "      <td>0.089119</td>\n",
       "      <td>1.034977</td>\n",
       "      <td>0.000985</td>\n",
       "      <td>1.003306</td>\n",
       "    </tr>\n",
       "    <tr>\n",
       "      <th>22</th>\n",
       "      <td>(coffee)</td>\n",
       "      <td>(sandwich)</td>\n",
       "      <td>0.478394</td>\n",
       "      <td>0.071844</td>\n",
       "      <td>0.038246</td>\n",
       "      <td>0.079947</td>\n",
       "      <td>1.112792</td>\n",
       "      <td>0.003877</td>\n",
       "      <td>1.008807</td>\n",
       "    </tr>\n",
       "    <tr>\n",
       "      <th>16</th>\n",
       "      <td>(coffee)</td>\n",
       "      <td>(medialuna)</td>\n",
       "      <td>0.478394</td>\n",
       "      <td>0.061807</td>\n",
       "      <td>0.035182</td>\n",
       "      <td>0.073542</td>\n",
       "      <td>1.189878</td>\n",
       "      <td>0.005614</td>\n",
       "      <td>1.012667</td>\n",
       "    </tr>\n",
       "    <tr>\n",
       "      <th>13</th>\n",
       "      <td>(coffee)</td>\n",
       "      <td>(hot chocolate)</td>\n",
       "      <td>0.478394</td>\n",
       "      <td>0.058320</td>\n",
       "      <td>0.029583</td>\n",
       "      <td>0.061837</td>\n",
       "      <td>1.060311</td>\n",
       "      <td>0.001683</td>\n",
       "      <td>1.003749</td>\n",
       "    </tr>\n",
       "    <tr>\n",
       "      <th>11</th>\n",
       "      <td>(coffee)</td>\n",
       "      <td>(cookies)</td>\n",
       "      <td>0.478394</td>\n",
       "      <td>0.054411</td>\n",
       "      <td>0.028209</td>\n",
       "      <td>0.058966</td>\n",
       "      <td>1.083723</td>\n",
       "      <td>0.002179</td>\n",
       "      <td>1.004841</td>\n",
       "    </tr>\n",
       "    <tr>\n",
       "      <th>27</th>\n",
       "      <td>(coffee)</td>\n",
       "      <td>(toast)</td>\n",
       "      <td>0.478394</td>\n",
       "      <td>0.033597</td>\n",
       "      <td>0.023666</td>\n",
       "      <td>0.049470</td>\n",
       "      <td>1.472431</td>\n",
       "      <td>0.007593</td>\n",
       "      <td>1.016699</td>\n",
       "    </tr>\n",
       "    <tr>\n",
       "      <th>15</th>\n",
       "      <td>(coffee)</td>\n",
       "      <td>(juice)</td>\n",
       "      <td>0.478394</td>\n",
       "      <td>0.038563</td>\n",
       "      <td>0.020602</td>\n",
       "      <td>0.043065</td>\n",
       "      <td>1.116750</td>\n",
       "      <td>0.002154</td>\n",
       "      <td>1.004705</td>\n",
       "    </tr>\n",
       "    <tr>\n",
       "      <th>4</th>\n",
       "      <td>(coffee)</td>\n",
       "      <td>(brownie)</td>\n",
       "      <td>0.478394</td>\n",
       "      <td>0.040042</td>\n",
       "      <td>0.019651</td>\n",
       "      <td>0.041078</td>\n",
       "      <td>1.025860</td>\n",
       "      <td>0.000495</td>\n",
       "      <td>1.001080</td>\n",
       "    </tr>\n",
       "    <tr>\n",
       "      <th>1</th>\n",
       "      <td>(coffee)</td>\n",
       "      <td>(alfajores)</td>\n",
       "      <td>0.478394</td>\n",
       "      <td>0.036344</td>\n",
       "      <td>0.019651</td>\n",
       "      <td>0.041078</td>\n",
       "      <td>1.130235</td>\n",
       "      <td>0.002264</td>\n",
       "      <td>1.004936</td>\n",
       "    </tr>\n",
       "    <tr>\n",
       "      <th>18</th>\n",
       "      <td>(coffee)</td>\n",
       "      <td>(muffin)</td>\n",
       "      <td>0.478394</td>\n",
       "      <td>0.038457</td>\n",
       "      <td>0.018806</td>\n",
       "      <td>0.039311</td>\n",
       "      <td>1.022193</td>\n",
       "      <td>0.000408</td>\n",
       "      <td>1.000888</td>\n",
       "    </tr>\n",
       "    <tr>\n",
       "      <th>24</th>\n",
       "      <td>(coffee)</td>\n",
       "      <td>(scone)</td>\n",
       "      <td>0.478394</td>\n",
       "      <td>0.034548</td>\n",
       "      <td>0.018067</td>\n",
       "      <td>0.037765</td>\n",
       "      <td>1.093107</td>\n",
       "      <td>0.001539</td>\n",
       "      <td>1.003343</td>\n",
       "    </tr>\n",
       "  </tbody>\n",
       "</table>\n",
       "</div>"
      ],
      "text/plain": [
       "        antecedents      consequents  antecedent support  consequent support  \\\n",
       "26          (toast)         (coffee)            0.033597            0.478394   \n",
       "17      (medialuna)         (coffee)            0.061807            0.478394   \n",
       "20         (pastry)         (coffee)            0.086107            0.478394   \n",
       "0       (alfajores)         (coffee)            0.036344            0.478394   \n",
       "14          (juice)         (coffee)            0.038563            0.478394   \n",
       "23       (sandwich)         (coffee)            0.071844            0.478394   \n",
       "7            (cake)         (coffee)            0.103856            0.478394   \n",
       "25          (scone)         (coffee)            0.034548            0.478394   \n",
       "10        (cookies)         (coffee)            0.054411            0.478394   \n",
       "12  (hot chocolate)         (coffee)            0.058320            0.478394   \n",
       "5         (brownie)         (coffee)            0.040042            0.478394   \n",
       "19         (muffin)         (coffee)            0.038457            0.478394   \n",
       "2          (pastry)          (bread)            0.086107            0.327205   \n",
       "9            (cake)            (tea)            0.103856            0.142631   \n",
       "8             (tea)           (cake)            0.142631            0.103856   \n",
       "6          (coffee)           (cake)            0.478394            0.103856   \n",
       "21         (coffee)         (pastry)            0.478394            0.086107   \n",
       "3           (bread)         (pastry)            0.327205            0.086107   \n",
       "22         (coffee)       (sandwich)            0.478394            0.071844   \n",
       "16         (coffee)      (medialuna)            0.478394            0.061807   \n",
       "13         (coffee)  (hot chocolate)            0.478394            0.058320   \n",
       "11         (coffee)        (cookies)            0.478394            0.054411   \n",
       "27         (coffee)          (toast)            0.478394            0.033597   \n",
       "15         (coffee)          (juice)            0.478394            0.038563   \n",
       "4          (coffee)        (brownie)            0.478394            0.040042   \n",
       "1          (coffee)      (alfajores)            0.478394            0.036344   \n",
       "18         (coffee)         (muffin)            0.478394            0.038457   \n",
       "24         (coffee)          (scone)            0.478394            0.034548   \n",
       "\n",
       "     support  confidence      lift  leverage  conviction  \n",
       "26  0.023666    0.704403  1.472431  0.007593    1.764582  \n",
       "17  0.035182    0.569231  1.189878  0.005614    1.210871  \n",
       "20  0.047544    0.552147  1.154168  0.006351    1.164682  \n",
       "0   0.019651    0.540698  1.130235  0.002264    1.135648  \n",
       "14  0.020602    0.534247  1.116750  0.002154    1.119919  \n",
       "23  0.038246    0.532353  1.112792  0.003877    1.115384  \n",
       "7   0.054728    0.526958  1.101515  0.005044    1.102664  \n",
       "25  0.018067    0.522936  1.093107  0.001539    1.093366  \n",
       "10  0.028209    0.518447  1.083723  0.002179    1.083174  \n",
       "12  0.029583    0.507246  1.060311  0.001683    1.058553  \n",
       "5   0.019651    0.490765  1.025860  0.000495    1.024293  \n",
       "19  0.018806    0.489011  1.022193  0.000408    1.020777  \n",
       "2   0.029160    0.338650  1.034977  0.000985    1.017305  \n",
       "9   0.023772    0.228891  1.604781  0.008959    1.111865  \n",
       "8   0.023772    0.166667  1.604781  0.008959    1.075372  \n",
       "6   0.054728    0.114399  1.101515  0.005044    1.011905  \n",
       "21  0.047544    0.099382  1.154168  0.006351    1.014740  \n",
       "3   0.029160    0.089119  1.034977  0.000985    1.003306  \n",
       "22  0.038246    0.079947  1.112792  0.003877    1.008807  \n",
       "16  0.035182    0.073542  1.189878  0.005614    1.012667  \n",
       "13  0.029583    0.061837  1.060311  0.001683    1.003749  \n",
       "11  0.028209    0.058966  1.083723  0.002179    1.004841  \n",
       "27  0.023666    0.049470  1.472431  0.007593    1.016699  \n",
       "15  0.020602    0.043065  1.116750  0.002154    1.004705  \n",
       "4   0.019651    0.041078  1.025860  0.000495    1.001080  \n",
       "1   0.019651    0.041078  1.130235  0.002264    1.004936  \n",
       "18  0.018806    0.039311  1.022193  0.000408    1.000888  \n",
       "24  0.018067    0.037765  1.093107  0.001539    1.003343  "
      ]
     },
     "execution_count": 85,
     "metadata": {},
     "output_type": "execute_result"
    }
   ],
   "source": [
    "rules.sort_values('confidence', ascending = False, inplace=True)\n",
    "rules"
   ]
  },
  {
   "cell_type": "markdown",
   "metadata": {},
   "source": [
    "#### We can clearly see that coffee is an item that is very associated with other purchases in the bakery, such as toast, medialuna and pastry"
   ]
  },
  {
   "cell_type": "code",
   "execution_count": null,
   "metadata": {},
   "outputs": [],
   "source": []
  }
 ],
 "metadata": {
  "kernelspec": {
   "display_name": "Python 3",
   "language": "python",
   "name": "python3"
  },
  "language_info": {
   "codemirror_mode": {
    "name": "ipython",
    "version": 3
   },
   "file_extension": ".py",
   "mimetype": "text/x-python",
   "name": "python",
   "nbconvert_exporter": "python",
   "pygments_lexer": "ipython3",
   "version": "3.6.9"
  }
 },
 "nbformat": 4,
 "nbformat_minor": 2
}
